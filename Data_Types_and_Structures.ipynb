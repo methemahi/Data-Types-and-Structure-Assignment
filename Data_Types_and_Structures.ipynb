{
  "nbformat": 4,
  "nbformat_minor": 0,
  "metadata": {
    "colab": {
      "provenance": []
    },
    "kernelspec": {
      "name": "python3",
      "display_name": "Python 3"
    },
    "language_info": {
      "name": "python"
    }
  },
  "cells": [
    {
      "cell_type": "markdown",
      "source": [
        "# Data Types and Structures Questions"
      ],
      "metadata": {
        "id": "T5NYafqWur5P"
      }
    },
    {
      "cell_type": "code",
      "source": [
        "#1 what are data structure and why it is important?\n",
        "  #Data structures are a way to organize, manage, and store data so we  can  use it  efficiently"
      ],
      "metadata": {
        "id": "zdlmnUEVuxAv"
      },
      "execution_count": null,
      "outputs": []
    },
    {
      "cell_type": "code",
      "source": [
        "# 2. Expalin the different bitween mutability and immutability data type with example?\n",
        "  #mutability describe whether an object's value can be changed after its creation and in immutablity data can be changed after creation\n",
        "  #example list id mutable and tuple is immutable"
      ],
      "metadata": {
        "id": "2bZLNYVAvIuk"
      },
      "execution_count": null,
      "outputs": []
    },
    {
      "cell_type": "code",
      "source": [
        "# 3. What are main diffrent bitween list and tuple in python?\n",
        "  #list is mutable and tuple is immutable"
      ],
      "metadata": {
        "id": "GvbARvr2vmqE"
      },
      "execution_count": null,
      "outputs": []
    },
    {
      "cell_type": "code",
      "source": [
        "#4. Discribe how dictonary store data\n",
        "  #Dictionary store data  data in form of key: value formate"
      ],
      "metadata": {
        "id": "XPex8q-2v6Rr"
      },
      "execution_count": null,
      "outputs": []
    },
    {
      "cell_type": "code",
      "source": [
        "#5. Why might you use a set instead of a list in Python?\n",
        "  # set store only unique data not duplicate"
      ],
      "metadata": {
        "id": "H1DI_7NAv6Pn"
      },
      "execution_count": null,
      "outputs": []
    },
    {
      "cell_type": "code",
      "source": [
        "#6. What is a string in Python, and how is it different from a list?\n",
        "  #in python list is mutable and string is immutable\n"
      ],
      "metadata": {
        "id": "O2omjUUMv6Ms"
      },
      "execution_count": null,
      "outputs": []
    },
    {
      "cell_type": "code",
      "source": [
        "#7. How do tuples ensure data integrity in Python?\n",
        "  #Tuples ensure data integrity in Python primarily through their immutability. This characteristic means that once a tuple is created, its elements cannot be changed, added, or removed"
      ],
      "metadata": {
        "id": "sHwxAHW6v6K3"
      },
      "execution_count": null,
      "outputs": []
    },
    {
      "cell_type": "code",
      "source": [
        "#8. What is a hash table, and how does it relate to dictionaries in Python?\n",
        "  #A hash table, also known as a hash map or associative array, is a data structure that stores key-value pairs. It uses a hash function to map keys to indices in an array, allowing for efficient retrieval of values based on their associated keys. The hash function takes a key as input and produces a numerical hash value, which is then typically used to calculate an array index where the corresponding value is stored. This design enables average-case constant-time complexity (O(1)) for operations like insertion, deletion, and lookup.\n",
        "#In Python, dictionaries (dict) are implemented using hash tables. When a key-value pair is added to a dictionary, Python's internal mechanisms compute a hash value for the key and use it to determine where in memory to store the key and its associated value. When a value is retrieved using a key, the same hashing process quickly locates the corresponding value. This underlying hash table implementation is what makes Python dictionaries highly efficient for managing and accessing data by unique keys.\n"
      ],
      "metadata": {
        "id": "2-93F0ulv6He"
      },
      "execution_count": null,
      "outputs": []
    },
    {
      "cell_type": "code",
      "source": [
        "#9. Can lists contain different data types in Python?\n",
        "#list store heterogenous data is means list can store all tpye of data\n",
        "list=[1,2,3,4,\"5\",3+5j,\"true\",\"sujata\"]\n",
        "print(list)"
      ],
      "metadata": {
        "id": "vsr-wKQ4v6Fm",
        "colab": {
          "base_uri": "https://localhost:8080/"
        },
        "outputId": "454b3c86-fee3-402e-8064-ff2ff952aecb"
      },
      "execution_count": 49,
      "outputs": [
        {
          "output_type": "stream",
          "name": "stdout",
          "text": [
            "[1, 2, 3, 4, '5', (3+5j), 'true', 'sujata']\n"
          ]
        }
      ]
    },
    {
      "cell_type": "code",
      "source": [
        "#10. Explain why strings are immutable in Python\n",
        "#Strings are immutable in Python, meaning their content cannot be changed after creation. This design choice offers several advantages:Safety and Predictability,Hashing and Dictionary Keys,Memory Optimization"
      ],
      "metadata": {
        "id": "uqm0K_i1v6AS"
      },
      "execution_count": null,
      "outputs": []
    },
    {
      "cell_type": "code",
      "source": [
        "#11. What advantages do dictionaries offer over lists for certain task\n",
        "  #Dictionaries in Python offer faster data retrieval and more efficient storage of related data compared to lists, especially when dealing with large datasets or when needing to quickly access elements based on a unique identifier. Lists are more suitable when order or sequential access is crucial."
      ],
      "metadata": {
        "id": "LrAbIUHGrQ2w"
      },
      "execution_count": null,
      "outputs": []
    },
    {
      "cell_type": "code",
      "source": [
        "# 12. Describe a scenario where using a tuple would be preferable over a list.\n",
        "  #Lists are mutable, allowing you to modify their content, while tuples are immutable, meaning you can't change them after creation. You should prefer tuples when you need an immutable sequence, such as function return values or constant data."
      ],
      "metadata": {
        "id": "8UJlYXJ1v570"
      },
      "execution_count": null,
      "outputs": []
    },
    {
      "cell_type": "code",
      "source": [
        "#13. How do sets handle duplicate values in Python?\n",
        "  # Sets in Python inherently do not allow duplicate values. They are designed to store unique elements. When an attempt is made to add a duplicate element to a set, the set simply ignores the addition, and the existing element remains in the set. The set's size does not increase, and no error is raised"
      ],
      "metadata": {
        "id": "EAy6mQlNsXVL"
      },
      "execution_count": null,
      "outputs": []
    },
    {
      "cell_type": "code",
      "source": [
        "#14. How does the “in” keyword work differently for lists and dictionaries?\n",
        "  #In Python, the in keyword functions differently for lists and dictionaries when checking for membership. For lists, in checks if a value exists as an element within the list, returning True if found and False otherwise. In contrast, for dictionaries, in checks if a value exists as a key within the dictionary, not as a value associated with a key."
      ],
      "metadata": {
        "id": "SPH6zXlksa6a"
      },
      "execution_count": null,
      "outputs": []
    },
    {
      "cell_type": "code",
      "source": [
        "#15. Can you modify the elements of a tuple? Explain why or why not.\n",
        "  #No, you cannot directly modify the elements of a tuple in Python. Tuples are immutable, meaning their contents cannot be changed after creation. If you try to modify a tuple, you will get a TypeError. However, you can create a new tuple with the desired changes"
      ],
      "metadata": {
        "id": "bKm8YtJwsdNq"
      },
      "execution_count": null,
      "outputs": []
    },
    {
      "cell_type": "code",
      "source": [
        "#16. What is a nested dictionary, and give an example for its use case?\n",
        "  #A nested dictionary in Python is a dictionary that contains other dictionaries as values. This allows for representing hierarchical data structures, similar to how JSON objects are structured. Essentially, you have a dictionary where the values are themselves dictionaries, creating a nested structure of key-value pairs"
      ],
      "metadata": {
        "id": "UYXcqOvKskEB"
      },
      "execution_count": null,
      "outputs": []
    },
    {
      "cell_type": "code",
      "source": [
        "#17. Describe the time complexity of accessing elements in a dictionary.\n",
        "  # The time complexity of accessing elements in a dictionary (or hash map) is O(1) on average, but can be O(n) in the worst case, where 'n' is the number of elements in the dictionary."
      ],
      "metadata": {
        "id": "LsWZp1q2ssJY"
      },
      "execution_count": null,
      "outputs": []
    },
    {
      "cell_type": "code",
      "source": [
        "#18. In what situations are lists preferred over dictionaries?\n",
        "  #Lists are preferred over dictionaries when the order of elements matters, when you need to access elements by their position (index), or when the data is inherently sequential and doesn't require key-based lookups. Dictionaries are more efficient for key-value lookups and when order is not important."
      ],
      "metadata": {
        "id": "GvNvUl9psz6a"
      },
      "execution_count": null,
      "outputs": []
    },
    {
      "cell_type": "code",
      "source": [
        "#19. Why are dictionaries considered unordered, and how does that affect data retrieval?\n",
        "  #Dictionaries are considered unordered because they do not inherently maintain the order in which key-value pairs are inserted. This means that when you iterate through a dictionary or access its elements, the order in which they are returned is not guaranteed to be the same as the order they were added. While newer versions of Python (3.7+) do preserve insertion order as an implementation detail, dictionaries are still primarily optimized for fast key-based lookups, not for ordered access."
      ],
      "metadata": {
        "id": "BpY1sz9Is6nc"
      },
      "execution_count": null,
      "outputs": []
    },
    {
      "cell_type": "code",
      "source": [
        "#20. Explain the difference between a list and a dictionary in terms of data retrieval.\n",
        "  #In Python, lists and dictionaries differ significantly in how data is retrieved. Lists are ordered collections accessed by numerical indices, while dictionaries are unordered collections accessed by unique keys. This fundamental difference impacts the speed and purpose of data retrieval."
      ],
      "metadata": {
        "id": "2_CAfb5dtBEj"
      },
      "execution_count": null,
      "outputs": []
    },
    {
      "cell_type": "markdown",
      "source": [
        "#Practical Questions\n"
      ],
      "metadata": {
        "id": "pz2d7j_DsTIG"
      }
    },
    {
      "cell_type": "code",
      "source": [
        "#1. Write a code to create a string with your name and print it.\n",
        "Name=\"Manmohan Singh Batham\"\n",
        "print(Name)"
      ],
      "metadata": {
        "colab": {
          "base_uri": "https://localhost:8080/"
        },
        "id": "NW5NudhBtNgx",
        "outputId": "c2064537-8f96-433d-e967-decbe4af2fe0"
      },
      "execution_count": null,
      "outputs": [
        {
          "output_type": "stream",
          "name": "stdout",
          "text": [
            "Manmohan Singh Batham\n"
          ]
        }
      ]
    },
    {
      "cell_type": "code",
      "source": [
        "#2. Write a code to find the length of the string “Hello World”.\n",
        "string=\"Hello World\"\n",
        "len(string)"
      ],
      "metadata": {
        "colab": {
          "base_uri": "https://localhost:8080/"
        },
        "id": "QSBn63yxtfYv",
        "outputId": "3747c984-50c5-43e1-a4f3-40bf1f25bd92"
      },
      "execution_count": null,
      "outputs": [
        {
          "output_type": "execute_result",
          "data": {
            "text/plain": [
              "11"
            ]
          },
          "metadata": {},
          "execution_count": 3
        }
      ]
    },
    {
      "cell_type": "code",
      "source": [
        "#3.Write a code to slice the first 3 characters from the string “Python Programming”.\n",
        "string1=\"manmohan\"\n",
        "string1[0:-5]"
      ],
      "metadata": {
        "id": "7pAtdQIGtoX_",
        "colab": {
          "base_uri": "https://localhost:8080/",
          "height": 35
        },
        "outputId": "ebc91640-e9b7-49d7-f80b-818e1083a515"
      },
      "execution_count": null,
      "outputs": [
        {
          "output_type": "execute_result",
          "data": {
            "text/plain": [
              "'man'"
            ],
            "application/vnd.google.colaboratory.intrinsic+json": {
              "type": "string"
            }
          },
          "metadata": {},
          "execution_count": 4
        }
      ]
    },
    {
      "cell_type": "code",
      "source": [
        "#4. Write a code to convert the string “hello” to uppercase.\n",
        "String=\"hello\"\n",
        "String.upper()"
      ],
      "metadata": {
        "id": "sJlmFVZTtoNU",
        "colab": {
          "base_uri": "https://localhost:8080/",
          "height": 35
        },
        "outputId": "9682f9a4-0f49-40bc-d6cd-46b442a37cf2"
      },
      "execution_count": null,
      "outputs": [
        {
          "output_type": "execute_result",
          "data": {
            "text/plain": [
              "'HELLO'"
            ],
            "application/vnd.google.colaboratory.intrinsic+json": {
              "type": "string"
            }
          },
          "metadata": {},
          "execution_count": 5
        }
      ]
    },
    {
      "cell_type": "code",
      "source": [
        "#5. Write a code to replace the word “apple” with “orange” in the string “I like apple”.\n",
        "String=\"I like apple\"\n",
        "String.replace(\"apple\",\"orange\")"
      ],
      "metadata": {
        "id": "wOfdG7GEtn_N",
        "colab": {
          "base_uri": "https://localhost:8080/",
          "height": 35
        },
        "outputId": "6459222b-af1f-4e16-8971-97277b07f9cb"
      },
      "execution_count": null,
      "outputs": [
        {
          "output_type": "execute_result",
          "data": {
            "text/plain": [
              "'I like orange'"
            ],
            "application/vnd.google.colaboratory.intrinsic+json": {
              "type": "string"
            }
          },
          "metadata": {},
          "execution_count": 6
        }
      ]
    },
    {
      "cell_type": "code",
      "source": [
        "#6. Write a code to create a list with numbers 1 to 5 and print it.\n",
        "list=[\"1\",\"2\",\"3\",\"4\",\"5\"]\n",
        "print(list)"
      ],
      "metadata": {
        "id": "y4JGcEIYt7_j",
        "colab": {
          "base_uri": "https://localhost:8080/"
        },
        "outputId": "0c93141a-3902-4265-aeef-fae453dde585"
      },
      "execution_count": null,
      "outputs": [
        {
          "output_type": "stream",
          "name": "stdout",
          "text": [
            "['1', '2', '3', '4', '5']\n"
          ]
        }
      ]
    },
    {
      "cell_type": "code",
      "source": [
        "#7. Write a code to append the number 10 to the list [1, 2, 3, 4].\n",
        "list=[1,2,3,4]\n",
        "list.append(10)\n",
        "print(list)"
      ],
      "metadata": {
        "id": "MuGDvcNat7yx",
        "colab": {
          "base_uri": "https://localhost:8080/"
        },
        "outputId": "2ce7c63c-3f10-401b-e4a4-aa7897645129"
      },
      "execution_count": null,
      "outputs": [
        {
          "output_type": "stream",
          "name": "stdout",
          "text": [
            "[1, 2, 3, 4, 10]\n"
          ]
        }
      ]
    },
    {
      "cell_type": "code",
      "source": [
        "#8. Write a code to remove the number 3 from the list [1, 2, 3, 4, 5].\n",
        "list=[1,2,3,4,5]\n",
        "list.remove(3)\n",
        "print(list)"
      ],
      "metadata": {
        "id": "Xqhkf2vxt7nJ",
        "colab": {
          "base_uri": "https://localhost:8080/"
        },
        "outputId": "a09ef197-df4d-4aa4-a28c-2713c52a8327"
      },
      "execution_count": null,
      "outputs": [
        {
          "output_type": "stream",
          "name": "stdout",
          "text": [
            "[1, 2, 4, 5]\n"
          ]
        }
      ]
    },
    {
      "cell_type": "code",
      "source": [
        "#9. Write a code to access the second element in the list [‘a’, ‘b’, ‘c’, ‘d’].\n",
        "list=['a','b','c','d']\n",
        "list[1]"
      ],
      "metadata": {
        "id": "lYlxhIEht7Vi",
        "colab": {
          "base_uri": "https://localhost:8080/",
          "height": 35
        },
        "outputId": "38e7f6fc-bca9-4d0a-9ce9-5ffcb40ddce1"
      },
      "execution_count": null,
      "outputs": [
        {
          "output_type": "execute_result",
          "data": {
            "text/plain": [
              "'b'"
            ],
            "application/vnd.google.colaboratory.intrinsic+json": {
              "type": "string"
            }
          },
          "metadata": {},
          "execution_count": 10
        }
      ]
    },
    {
      "cell_type": "code",
      "source": [
        "#10. Write a code to reverse the list [10, 20, 30, 40, 50].\n",
        "list=[10,20,30,40,50]\n",
        "list.reverse()\n",
        "print(list)"
      ],
      "metadata": {
        "id": "VwbNBU90uSkr",
        "colab": {
          "base_uri": "https://localhost:8080/"
        },
        "outputId": "de05eb2c-bd13-49a3-c243-0d92594aba7d"
      },
      "execution_count": null,
      "outputs": [
        {
          "output_type": "stream",
          "name": "stdout",
          "text": [
            "[50, 40, 30, 20, 10]\n"
          ]
        }
      ]
    },
    {
      "cell_type": "code",
      "source": [
        "#11. Write a code to create a tuple with the elements 100, 200, 300 and print it.\n",
        "tuple=(100,200,300)\n",
        "print(tuple)"
      ],
      "metadata": {
        "id": "cyMikOIOuSGr",
        "colab": {
          "base_uri": "https://localhost:8080/"
        },
        "outputId": "8bca94d4-1e8c-4a55-960b-8e84a8ced331"
      },
      "execution_count": 1,
      "outputs": [
        {
          "output_type": "stream",
          "name": "stdout",
          "text": [
            "(100, 200, 300)\n"
          ]
        }
      ]
    },
    {
      "cell_type": "code",
      "source": [
        "#12. Write a code to access the second-to-last element of the tuple (‘red’, ‘green’, ‘blue’, ‘yellow’)\n",
        "tuple=('red','green','blue','yellow')\n",
        "tuple[-2]"
      ],
      "metadata": {
        "id": "cw8hzju0uSD-",
        "colab": {
          "base_uri": "https://localhost:8080/",
          "height": 35
        },
        "outputId": "ecc97bdd-bb42-4538-b457-3aff4a4cab8e"
      },
      "execution_count": 2,
      "outputs": [
        {
          "output_type": "execute_result",
          "data": {
            "text/plain": [
              "'blue'"
            ],
            "application/vnd.google.colaboratory.intrinsic+json": {
              "type": "string"
            }
          },
          "metadata": {},
          "execution_count": 2
        }
      ]
    },
    {
      "cell_type": "code",
      "source": [
        "#13. Write a code to find the minimum number in the tuple (10, 20, 5, 15).\n",
        "tuple=(10,20,5,15)\n",
        "min(tuple)"
      ],
      "metadata": {
        "id": "HTFHv4_xuR__",
        "colab": {
          "base_uri": "https://localhost:8080/"
        },
        "outputId": "859f064d-9b2a-4088-cec4-c2f0820cd285"
      },
      "execution_count": 3,
      "outputs": [
        {
          "output_type": "execute_result",
          "data": {
            "text/plain": [
              "5"
            ]
          },
          "metadata": {},
          "execution_count": 3
        }
      ]
    },
    {
      "cell_type": "code",
      "source": [
        "#14. Write a code to find the index of the element “cat” in the tuple (‘dog’, ‘cat’, ‘rabbit’).\n",
        "tuple=('dog','cat','rabbit')\n",
        "tuple.index('cat')"
      ],
      "metadata": {
        "id": "01fOngrDuR74",
        "colab": {
          "base_uri": "https://localhost:8080/"
        },
        "outputId": "efd1fb9a-f53d-42f5-eb6e-8955c5bb53cb"
      },
      "execution_count": 4,
      "outputs": [
        {
          "output_type": "execute_result",
          "data": {
            "text/plain": [
              "1"
            ]
          },
          "metadata": {},
          "execution_count": 4
        }
      ]
    },
    {
      "cell_type": "code",
      "source": [
        "#15. Write a code to create a tuple containing three different fruits and check if “kiwi” is in it.\n",
        "tuple=('apple','banana','kiwi')\n",
        "'kiwi' in tuple"
      ],
      "metadata": {
        "id": "v7VKLvmruvOa",
        "colab": {
          "base_uri": "https://localhost:8080/"
        },
        "outputId": "c85a449f-acf2-4b37-d752-555700f85c08"
      },
      "execution_count": 5,
      "outputs": [
        {
          "output_type": "execute_result",
          "data": {
            "text/plain": [
              "True"
            ]
          },
          "metadata": {},
          "execution_count": 5
        }
      ]
    },
    {
      "cell_type": "code",
      "source": [
        "#16. Write a code to create a set with the elements {‘a’, ‘b’, ‘c’} and print it.\n",
        "set={'a','b','c'}\n",
        "print(set)"
      ],
      "metadata": {
        "id": "-mqK3q_8uu2V",
        "colab": {
          "base_uri": "https://localhost:8080/"
        },
        "outputId": "1a934c8e-84f7-4aa9-baf6-fd03da2c7950"
      },
      "execution_count": 6,
      "outputs": [
        {
          "output_type": "stream",
          "name": "stdout",
          "text": [
            "{'c', 'b', 'a'}\n"
          ]
        }
      ]
    },
    {
      "cell_type": "code",
      "source": [
        "#17. Write a code to clear all elements from the set {1, 2, 3, 4, 5}\n",
        "set={1,2,3,4,5}\n",
        "set.clear()\n",
        "print(set)"
      ],
      "metadata": {
        "id": "bvnWJQcFuuzd",
        "colab": {
          "base_uri": "https://localhost:8080/"
        },
        "outputId": "5c08db9a-6b83-4cec-9832-b6e412493892"
      },
      "execution_count": 7,
      "outputs": [
        {
          "output_type": "stream",
          "name": "stdout",
          "text": [
            "set()\n"
          ]
        }
      ]
    },
    {
      "cell_type": "code",
      "source": [
        "#18. Write a code to remove the element 4 from the set {1, 2, 3,4}\n",
        "set={1,2,3,4}\n",
        "set.remove(4)\n",
        "print(set)"
      ],
      "metadata": {
        "id": "zR5XzRIRuuwJ",
        "colab": {
          "base_uri": "https://localhost:8080/"
        },
        "outputId": "96320103-fb63-4873-df6d-eb7ddec2de4d"
      },
      "execution_count": 8,
      "outputs": [
        {
          "output_type": "stream",
          "name": "stdout",
          "text": [
            "{1, 2, 3}\n"
          ]
        }
      ]
    },
    {
      "cell_type": "code",
      "source": [
        "#19. Write a code to find the union of two sets {1, 2, 3} and {3, 4, 5}.\n",
        "set1={1,2,3}\n",
        "set2={3,4,5}\n",
        "set1.union(set2)"
      ],
      "metadata": {
        "id": "w9YwQVzzvKD1",
        "colab": {
          "base_uri": "https://localhost:8080/"
        },
        "outputId": "467fcfff-0865-4857-d460-e240ae4853ea"
      },
      "execution_count": 9,
      "outputs": [
        {
          "output_type": "execute_result",
          "data": {
            "text/plain": [
              "{1, 2, 3, 4, 5}"
            ]
          },
          "metadata": {},
          "execution_count": 9
        }
      ]
    },
    {
      "cell_type": "code",
      "source": [
        "#20. Write a code to find the intersection of two sets {1, 2, 3} and {2, 3, 4}.\n",
        "set1={1,2,3}\n",
        "set2={2,3,4}\n",
        "set1.intersection(set2)"
      ],
      "metadata": {
        "id": "Eaeww5wdvJ_3",
        "colab": {
          "base_uri": "https://localhost:8080/"
        },
        "outputId": "d37e0102-a402-4e69-c640-d4f742858f05"
      },
      "execution_count": 10,
      "outputs": [
        {
          "output_type": "execute_result",
          "data": {
            "text/plain": [
              "{2, 3}"
            ]
          },
          "metadata": {},
          "execution_count": 10
        }
      ]
    },
    {
      "cell_type": "code",
      "source": [
        "#21. Write a code to create a dictionary with the keys “name”, “age” and “city”, and print it.\n",
        "dictionary = {\"name\":\"Manmohan Sing Batham\",\"Age\":\"35\",\"city\":\"Ujjain\"}\n",
        "print(dictionary)"
      ],
      "metadata": {
        "id": "Za0x5vC4vJsh",
        "colab": {
          "base_uri": "https://localhost:8080/"
        },
        "outputId": "ce318f66-c3d2-45ec-d5c8-1ac446c62dfa"
      },
      "execution_count": 12,
      "outputs": [
        {
          "output_type": "stream",
          "name": "stdout",
          "text": [
            "{'name': 'Manmohan Sing Batham', 'Age': '35', 'city': 'Ujjain'}\n"
          ]
        }
      ]
    },
    {
      "cell_type": "code",
      "source": [
        "#22. Write a code to add a new key-value pair “country”: “USA” to the dictionary {“name”: “John”, “age”: 25}.\n",
        "dict = {\"name\":\"John\",\"age\":\"25\"}\n",
        "dict[\"county\"]=\"usa\"\n",
        "print(dict)"
      ],
      "metadata": {
        "id": "fnO_iDt1vJpp",
        "colab": {
          "base_uri": "https://localhost:8080/"
        },
        "outputId": "d4127f9d-1699-41a4-b719-f484b1c2c38b"
      },
      "execution_count": 14,
      "outputs": [
        {
          "output_type": "stream",
          "name": "stdout",
          "text": [
            "{'name': 'John', 'age': '25', 'county': 'usa'}\n"
          ]
        }
      ]
    },
    {
      "cell_type": "code",
      "source": [
        "#23. Write a code to access the value associated with the key “name” in the dictionary {“name”: “Alice”, “age”: 30}.\n",
        "dict1={\"name\":\"Alice\", \"Age\":\"30\"}\n",
        "print(dict1[\"name\"])"
      ],
      "metadata": {
        "id": "G3Jqtdz8vJk0",
        "colab": {
          "base_uri": "https://localhost:8080/"
        },
        "outputId": "bb496033-f017-4221-ebb9-c0af36bee43e"
      },
      "execution_count": 28,
      "outputs": [
        {
          "output_type": "stream",
          "name": "stdout",
          "text": [
            "Alice\n"
          ]
        }
      ]
    },
    {
      "cell_type": "code",
      "source": [
        "#25. Write a code to check if the key “city” exists in the dictionary {“name”: “Alice”, “city”: “Paris”}.\n",
        "dict2 = {\"name\":\"Alice\",\"city\":\"paris\"}\n",
        "if \"city\" in dict2:\n",
        "  print(\"the city exist inthe dictionary\")\n",
        "else:\n",
        "    print(\"the city not exist inthe dictionary\")"
      ],
      "metadata": {
        "id": "zpMJcO5uvsI5",
        "colab": {
          "base_uri": "https://localhost:8080/"
        },
        "outputId": "0bb429d2-4a40-4871-81b2-77cd8de13220"
      },
      "execution_count": 29,
      "outputs": [
        {
          "output_type": "stream",
          "name": "stdout",
          "text": [
            "the city exist inthe dictionary\n"
          ]
        }
      ]
    },
    {
      "cell_type": "code",
      "source": [
        "#26. Write a code to create a list, a tuple, and a dictionary and print them all.\n",
        "list=[100,99,98,97,96,95]\n",
        "tuple=(\"manmohan\",\"bhawana\",\"sujata\",\"nandani\")\n",
        "dict3={\"name\":\"manmohan\",\"wife\":\"nandani\",\"gf\":\"sujata\"}\n",
        "print(list)\n",
        "print(tuple)\n",
        "print(dict3)"
      ],
      "metadata": {
        "id": "0HDGyryAvsF4",
        "colab": {
          "base_uri": "https://localhost:8080/"
        },
        "outputId": "4bcda19a-bb68-40ad-826a-7670f9215663"
      },
      "execution_count": 30,
      "outputs": [
        {
          "output_type": "stream",
          "name": "stdout",
          "text": [
            "[100, 99, 98, 97, 96, 95]\n",
            "('manmohan', 'bhawana', 'sujata', 'nandani')\n",
            "{'name': 'manmohan', 'wife': 'nandani', 'gf': 'sujata'}\n"
          ]
        }
      ]
    },
    {
      "cell_type": "code",
      "source": [
        "#27. Write a code to create a list of 5 random numbers between 1 and 100, sort it in ascending order, and print the result.\n",
        "list=[22,76,34,98,2]\n",
        "list.sort()\n",
        "print(\"sorted list\",list)"
      ],
      "metadata": {
        "id": "tCVbCVDHvsC_",
        "colab": {
          "base_uri": "https://localhost:8080/"
        },
        "outputId": "614b5457-f522-47c7-e645-59ae748a2f7c"
      },
      "execution_count": 34,
      "outputs": [
        {
          "output_type": "stream",
          "name": "stdout",
          "text": [
            "sorted list [2, 22, 34, 76, 98]\n"
          ]
        }
      ]
    },
    {
      "cell_type": "code",
      "source": [
        "#28. Write a code to create a list with strings and print the element at the third index.\n",
        "list=[\"manmohan\",\"sujata\",\"nandani\",\"bhawna\",\"rakhi\"]\n",
        "print(\"the element at the third index :\",list[3])"
      ],
      "metadata": {
        "id": "m2--J1n3vr81",
        "colab": {
          "base_uri": "https://localhost:8080/"
        },
        "outputId": "962fb0e9-1936-4b82-d724-1502d24f96fb"
      },
      "execution_count": 36,
      "outputs": [
        {
          "output_type": "stream",
          "name": "stdout",
          "text": [
            "the element at the third index : bhawna\n"
          ]
        }
      ]
    },
    {
      "cell_type": "code",
      "source": [
        "#29. Write a code to combine two dictionaries into one and print the result.\n",
        "dict4={\"name\":\"manmohan\",\"age\":\"35\",\"city\":\"ujjain\"}\n",
        "dict5={\"name\":\"sujata\",\"age\":\"34\",\"city\":\"kasrawad\"}\n",
        "combine_dict = {**dict4 ,**dict5}\n",
        "print(combine_dict)"
      ],
      "metadata": {
        "id": "hcbDSYFMwAGW",
        "colab": {
          "base_uri": "https://localhost:8080/"
        },
        "outputId": "613add24-f9dc-45cd-a537-d550c8ed0d10"
      },
      "execution_count": 42,
      "outputs": [
        {
          "output_type": "stream",
          "name": "stdout",
          "text": [
            "{'name': 'sujata', 'age': '34', 'city': 'kasrawad'}\n"
          ]
        }
      ]
    },
    {
      "cell_type": "code",
      "source": [
        "#30. Write a code to convert a list of strings into a set.\n",
        "cloth_list=[\"shirt\",\"lower\",\"t-shirt\",\"paint\",\"dhoti\",\"kurta\"]\n",
        "cloth_set=set(cloth_list)\n",
        "print(cloth_set)"
      ],
      "metadata": {
        "id": "Ny1NKzn3wBjC"
      },
      "execution_count": null,
      "outputs": []
    },
    {
      "cell_type": "code",
      "source": [],
      "metadata": {
        "id": "fmZNow4KtW7K"
      },
      "execution_count": null,
      "outputs": []
    }
  ]
}